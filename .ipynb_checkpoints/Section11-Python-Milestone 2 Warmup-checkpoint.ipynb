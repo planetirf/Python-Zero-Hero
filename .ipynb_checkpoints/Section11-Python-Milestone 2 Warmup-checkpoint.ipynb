{
 "cells": [
  {
   "cell_type": "markdown",
   "metadata": {},
   "source": [
    "## Card Class\n",
    "#### SUIT, RANK, VALUE"
   ]
  },
  {
   "cell_type": "code",
   "execution_count": 4,
   "metadata": {},
   "outputs": [],
   "source": [
    "#### SUIT, RANK, VALUE\n",
    "\n",
    "import random\n",
    "\n",
    "suits = ('Hearts','Diamonds','Spades','Clubs')\n",
    "ranks = ('Two', 'Three', 'Four', 'Five', 'Six', 'Seven', 'Eight', 'Nine', 'Ten', 'Jack', 'Queen', 'King', 'Ace')\n",
    "values = {'Two':2, 'Three':3, 'Four':4, 'Five':5, 'Six':6, 'Seven':7, 'Eight':8, \n",
    "            'Nine':9, 'Ten':10, 'Jack':11, 'Queen':12, 'King':13, 'Ace':14}\n",
    "\n",
    "### -- RUN BELOW FIRST TO GO THRU BUILDING PROCESS -- ##"
   ]
  },
  {
   "cell_type": "code",
   "execution_count": 5,
   "metadata": {},
   "outputs": [],
   "source": [
    "## if no inheretance  parens ()  not required for classes\n",
    "\n",
    "class Card:\n",
    "    \n",
    "    def __init__(self,suit,rank):\n",
    "        '''\n",
    "        Suit will be assigned from a dictionary\n",
    "        '''\n",
    "        self.suit = suit\n",
    "        self.rank = rank\n",
    "        ## why rank? not self.rank, because they are passing in rank already\n",
    "        \n",
    "        ## look up global variable: values -- a dictionary\n",
    "        self.value = values[rank]\n",
    "        \n",
    "    def __str__(self):\n",
    "        ## provide a string method so we can print out a card's info\n",
    "        ## print() is called and uses the return object for the __str__\n",
    "        return self.rank + \" of \" + self.suit"
   ]
  },
  {
   "cell_type": "markdown",
   "metadata": {},
   "source": [
    "#### Create a card and check the class constructor"
   ]
  },
  {
   "cell_type": "code",
   "execution_count": 6,
   "metadata": {},
   "outputs": [],
   "source": [
    "two_hearts = Card(\"Hearts\",\"Two\")"
   ]
  },
  {
   "cell_type": "code",
   "execution_count": 7,
   "metadata": {},
   "outputs": [
    {
     "data": {
      "text/plain": [
       "<__main__.Card at 0x105135280>"
      ]
     },
     "execution_count": 7,
     "metadata": {},
     "output_type": "execute_result"
    }
   ],
   "source": [
    "two_hearts"
   ]
  },
  {
   "cell_type": "code",
   "execution_count": 8,
   "metadata": {},
   "outputs": [
    {
     "name": "stdout",
     "output_type": "stream",
     "text": [
      "Two of Hearts\n"
     ]
    }
   ],
   "source": [
    "print(two_hearts)"
   ]
  },
  {
   "cell_type": "code",
   "execution_count": 9,
   "metadata": {},
   "outputs": [
    {
     "data": {
      "text/plain": [
       "'Hearts'"
      ]
     },
     "execution_count": 9,
     "metadata": {},
     "output_type": "execute_result"
    }
   ],
   "source": [
    "two_hearts.suit"
   ]
  },
  {
   "cell_type": "code",
   "execution_count": 10,
   "metadata": {},
   "outputs": [
    {
     "data": {
      "text/plain": [
       "'Two'"
      ]
     },
     "execution_count": 10,
     "metadata": {},
     "output_type": "execute_result"
    }
   ],
   "source": [
    "two_hearts.rank"
   ]
  },
  {
   "cell_type": "code",
   "execution_count": 11,
   "metadata": {},
   "outputs": [],
   "source": [
    "#### Create a dictionary of values to set the card equal to an integer\n",
    "#### Since the Royals and Ace are not integers the self.rank should be a string"
   ]
  },
  {
   "cell_type": "code",
   "execution_count": 12,
   "metadata": {},
   "outputs": [],
   "source": [
    "values = {'Two':2, 'Three':3, 'Four':4, 'Five':5, 'Six':6, 'Seven':7, 'Eight':8, \n",
    "            'Nine':9, 'Ten':10, 'Jack':11, 'Queen':12, 'King':13, 'Ace':14}"
   ]
  },
  {
   "cell_type": "code",
   "execution_count": 13,
   "metadata": {},
   "outputs": [
    {
     "data": {
      "text/plain": [
       "2"
      ]
     },
     "execution_count": 13,
     "metadata": {},
     "output_type": "execute_result"
    }
   ],
   "source": [
    "## check for two_hearts card we created above in the values dictionary\n",
    "values[two_hearts.rank]"
   ]
  },
  {
   "cell_type": "code",
   "execution_count": 14,
   "metadata": {},
   "outputs": [],
   "source": [
    "## "
   ]
  },
  {
   "cell_type": "code",
   "execution_count": 15,
   "metadata": {},
   "outputs": [],
   "source": [
    "three_of_clubs = Card('Clubs','Three')"
   ]
  },
  {
   "cell_type": "code",
   "execution_count": 16,
   "metadata": {},
   "outputs": [
    {
     "data": {
      "text/plain": [
       "'Three'"
      ]
     },
     "execution_count": 16,
     "metadata": {},
     "output_type": "execute_result"
    }
   ],
   "source": [
    "three_of_clubs.rank"
   ]
  },
  {
   "cell_type": "code",
   "execution_count": 17,
   "metadata": {},
   "outputs": [
    {
     "data": {
      "text/plain": [
       "3"
      ]
     },
     "execution_count": 17,
     "metadata": {},
     "output_type": "execute_result"
    }
   ],
   "source": [
    "three_of_clubs.value"
   ]
  },
  {
   "cell_type": "code",
   "execution_count": 18,
   "metadata": {},
   "outputs": [
    {
     "data": {
      "text/plain": [
       "False"
      ]
     },
     "execution_count": 18,
     "metadata": {},
     "output_type": "execute_result"
    }
   ],
   "source": [
    "## should be able to compare cards values now\n",
    "two_hearts.value > three_of_clubs.value"
   ]
  },
  {
   "cell_type": "markdown",
   "metadata": {},
   "source": [
    "### Create Deck Class:"
   ]
  },
  {
   "cell_type": "code",
   "execution_count": 33,
   "metadata": {},
   "outputs": [],
   "source": [
    "class Deck:\n",
    "    \n",
    "    ## instantiate the a full deck of cards\n",
    "    def __init__(self):\n",
    "        \n",
    "        ## create 52 card objects\n",
    "        self.all_cards = []\n",
    "        \n",
    "        ## access suits global far\n",
    "        for suit in suits:\n",
    "            ## access rankg global var\n",
    "            for rank in ranks:\n",
    "                ## create the a card by calling the Object Class Constructor: Card() \n",
    "                created_card = Card(suit,rank)\n",
    "                \n",
    "                ## Add card to all_cards list using the list method .append()\n",
    "                self.all_cards.append(created_card)\n",
    "                \n",
    "                \n",
    "    ## create shuffle method\n",
    "    def shuffle(self):\n",
    "        ## random.shuffle does not return anything - just shuffle\n",
    "        random.shuffle(self.all_cards)\n",
    "        \n",
    "    ## create a method to deal a card and remove it from the deck list?\n",
    "    def deal_one(self):\n",
    "        \n",
    "        ## pop the card from the top of deck ie. index position = [0]\n",
    "        return self.all_cards.pop()"
   ]
  },
  {
   "cell_type": "code",
   "execution_count": 34,
   "metadata": {},
   "outputs": [],
   "source": [
    "new_deck = Deck()"
   ]
  },
  {
   "cell_type": "code",
   "execution_count": 35,
   "metadata": {
    "scrolled": false
   },
   "outputs": [
    {
     "data": {
      "text/plain": [
       "[<__main__.Card at 0x1087f06a0>,\n",
       " <__main__.Card at 0x1087f0b20>,\n",
       " <__main__.Card at 0x1087f0b80>,\n",
       " <__main__.Card at 0x1087f0b50>,\n",
       " <__main__.Card at 0x1087f0340>,\n",
       " <__main__.Card at 0x1087f01f0>,\n",
       " <__main__.Card at 0x107bd53d0>,\n",
       " <__main__.Card at 0x107bd5610>,\n",
       " <__main__.Card at 0x107bd55b0>,\n",
       " <__main__.Card at 0x107bd5220>,\n",
       " <__main__.Card at 0x1083a06d0>,\n",
       " <__main__.Card at 0x1083a0040>,\n",
       " <__main__.Card at 0x1083a0070>,\n",
       " <__main__.Card at 0x1083a02e0>,\n",
       " <__main__.Card at 0x1083a0400>,\n",
       " <__main__.Card at 0x1083a03d0>,\n",
       " <__main__.Card at 0x1083a03a0>,\n",
       " <__main__.Card at 0x10880ddf0>,\n",
       " <__main__.Card at 0x107c712b0>,\n",
       " <__main__.Card at 0x107c71970>,\n",
       " <__main__.Card at 0x107c71520>,\n",
       " <__main__.Card at 0x107c68e80>,\n",
       " <__main__.Card at 0x107c68ca0>,\n",
       " <__main__.Card at 0x107c68bb0>,\n",
       " <__main__.Card at 0x107c688e0>,\n",
       " <__main__.Card at 0x107c68430>,\n",
       " <__main__.Card at 0x107c682e0>,\n",
       " <__main__.Card at 0x1083c77c0>,\n",
       " <__main__.Card at 0x1083c7880>,\n",
       " <__main__.Card at 0x1083c7550>,\n",
       " <__main__.Card at 0x107919310>,\n",
       " <__main__.Card at 0x1079192e0>,\n",
       " <__main__.Card at 0x1079191f0>,\n",
       " <__main__.Card at 0x1051cbe80>,\n",
       " <__main__.Card at 0x1051cbd30>,\n",
       " <__main__.Card at 0x1051cbdc0>,\n",
       " <__main__.Card at 0x1051cbd90>,\n",
       " <__main__.Card at 0x1051cbc40>,\n",
       " <__main__.Card at 0x1083b4970>,\n",
       " <__main__.Card at 0x1083b48e0>,\n",
       " <__main__.Card at 0x1083b4fd0>,\n",
       " <__main__.Card at 0x1083b4580>,\n",
       " <__main__.Card at 0x1083b4430>,\n",
       " <__main__.Card at 0x1083b4340>,\n",
       " <__main__.Card at 0x1083b42b0>,\n",
       " <__main__.Card at 0x1083b4460>,\n",
       " <__main__.Card at 0x1083b4c70>,\n",
       " <__main__.Card at 0x1083b4ee0>,\n",
       " <__main__.Card at 0x1083b4280>,\n",
       " <__main__.Card at 0x1083c0310>,\n",
       " <__main__.Card at 0x1083c0910>,\n",
       " <__main__.Card at 0x1083c0af0>]"
      ]
     },
     "execution_count": 35,
     "metadata": {},
     "output_type": "execute_result"
    }
   ],
   "source": [
    "new_deck.all_cards"
   ]
  },
  {
   "cell_type": "code",
   "execution_count": 88,
   "metadata": {},
   "outputs": [
    {
     "data": {
      "text/plain": [
       "int"
      ]
     },
     "execution_count": 88,
     "metadata": {},
     "output_type": "execute_result"
    }
   ],
   "source": [
    "type(len(new_deck.all_cards))"
   ]
  },
  {
   "cell_type": "code",
   "execution_count": 36,
   "metadata": {},
   "outputs": [],
   "source": [
    "first_card = new_deck.all_cards[0]"
   ]
  },
  {
   "cell_type": "code",
   "execution_count": 37,
   "metadata": {},
   "outputs": [
    {
     "data": {
      "text/plain": [
       "'Hearts'"
      ]
     },
     "execution_count": 37,
     "metadata": {},
     "output_type": "execute_result"
    }
   ],
   "source": [
    "first_card.suit"
   ]
  },
  {
   "cell_type": "code",
   "execution_count": 38,
   "metadata": {},
   "outputs": [
    {
     "data": {
      "text/plain": [
       "'Two'"
      ]
     },
     "execution_count": 38,
     "metadata": {},
     "output_type": "execute_result"
    }
   ],
   "source": [
    "first_card.rank"
   ]
  },
  {
   "cell_type": "code",
   "execution_count": 39,
   "metadata": {},
   "outputs": [
    {
     "data": {
      "text/plain": [
       "2"
      ]
     },
     "execution_count": 39,
     "metadata": {},
     "output_type": "execute_result"
    }
   ],
   "source": [
    "first_card.value"
   ]
  },
  {
   "cell_type": "code",
   "execution_count": 40,
   "metadata": {},
   "outputs": [
    {
     "name": "stdout",
     "output_type": "stream",
     "text": [
      "Two of Hearts\n"
     ]
    }
   ],
   "source": [
    "print(first_card)"
   ]
  },
  {
   "cell_type": "code",
   "execution_count": 41,
   "metadata": {},
   "outputs": [],
   "source": [
    "last_card = new_deck.all_cards[-1]"
   ]
  },
  {
   "cell_type": "code",
   "execution_count": 42,
   "metadata": {},
   "outputs": [
    {
     "name": "stdout",
     "output_type": "stream",
     "text": [
      "Ace of Clubs\n"
     ]
    }
   ],
   "source": [
    "print(last_card)"
   ]
  },
  {
   "cell_type": "code",
   "execution_count": 43,
   "metadata": {},
   "outputs": [
    {
     "name": "stdout",
     "output_type": "stream",
     "text": [
      "Two of Hearts\n",
      "Three of Hearts\n",
      "Four of Hearts\n",
      "Five of Hearts\n",
      "Six of Hearts\n",
      "Seven of Hearts\n",
      "Eight of Hearts\n",
      "Nine of Hearts\n",
      "Ten of Hearts\n",
      "Jack of Hearts\n",
      "Queen of Hearts\n",
      "King of Hearts\n",
      "Ace of Hearts\n",
      "Two of Diamonds\n",
      "Three of Diamonds\n",
      "Four of Diamonds\n",
      "Five of Diamonds\n",
      "Six of Diamonds\n",
      "Seven of Diamonds\n",
      "Eight of Diamonds\n",
      "Nine of Diamonds\n",
      "Ten of Diamonds\n",
      "Jack of Diamonds\n",
      "Queen of Diamonds\n",
      "King of Diamonds\n",
      "Ace of Diamonds\n",
      "Two of Spades\n",
      "Three of Spades\n",
      "Four of Spades\n",
      "Five of Spades\n",
      "Six of Spades\n",
      "Seven of Spades\n",
      "Eight of Spades\n",
      "Nine of Spades\n",
      "Ten of Spades\n",
      "Jack of Spades\n",
      "Queen of Spades\n",
      "King of Spades\n",
      "Ace of Spades\n",
      "Two of Clubs\n",
      "Three of Clubs\n",
      "Four of Clubs\n",
      "Five of Clubs\n",
      "Six of Clubs\n",
      "Seven of Clubs\n",
      "Eight of Clubs\n",
      "Nine of Clubs\n",
      "Ten of Clubs\n",
      "Jack of Clubs\n",
      "Queen of Clubs\n",
      "King of Clubs\n",
      "Ace of Clubs\n"
     ]
    }
   ],
   "source": [
    "for card_object in new_deck.all_cards:\n",
    "    print(card_object)"
   ]
  },
  {
   "cell_type": "code",
   "execution_count": 44,
   "metadata": {},
   "outputs": [],
   "source": [
    "new_deck.shuffle()"
   ]
  },
  {
   "cell_type": "code",
   "execution_count": 45,
   "metadata": {},
   "outputs": [
    {
     "name": "stdout",
     "output_type": "stream",
     "text": [
      "Ace of Hearts\n",
      "Two of Spades\n",
      "Ace of Diamonds\n",
      "Ten of Clubs\n",
      "Ten of Diamonds\n",
      "Three of Spades\n",
      "Queen of Hearts\n",
      "Seven of Clubs\n",
      "Nine of Spades\n",
      "Six of Diamonds\n",
      "Six of Hearts\n",
      "Jack of Hearts\n",
      "Two of Clubs\n",
      "Eight of Clubs\n",
      "Jack of Spades\n",
      "Seven of Diamonds\n",
      "Three of Diamonds\n",
      "Eight of Diamonds\n",
      "Four of Spades\n",
      "Ace of Spades\n",
      "Seven of Hearts\n",
      "King of Clubs\n",
      "Nine of Hearts\n",
      "Ten of Hearts\n",
      "Eight of Spades\n",
      "Nine of Diamonds\n",
      "Five of Spades\n",
      "Jack of Diamonds\n",
      "Four of Hearts\n",
      "King of Spades\n",
      "Ace of Clubs\n",
      "Jack of Clubs\n",
      "Four of Clubs\n",
      "Ten of Spades\n",
      "Two of Diamonds\n",
      "King of Diamonds\n",
      "Queen of Clubs\n",
      "Two of Hearts\n",
      "Six of Spades\n",
      "Five of Hearts\n",
      "Seven of Spades\n",
      "Five of Clubs\n",
      "Three of Hearts\n",
      "Six of Clubs\n",
      "Five of Diamonds\n",
      "Queen of Spades\n",
      "Four of Diamonds\n",
      "Eight of Hearts\n",
      "Queen of Diamonds\n",
      "Three of Clubs\n",
      "Nine of Clubs\n",
      "King of Hearts\n"
     ]
    }
   ],
   "source": [
    "for card_object in new_deck.all_cards:\n",
    "    print(card_object)"
   ]
  },
  {
   "cell_type": "code",
   "execution_count": 46,
   "metadata": {},
   "outputs": [],
   "source": [
    "mycard = new_deck.deal_one()"
   ]
  },
  {
   "cell_type": "code",
   "execution_count": 47,
   "metadata": {},
   "outputs": [
    {
     "data": {
      "text/plain": [
       "<__main__.Card at 0x1083a0040>"
      ]
     },
     "execution_count": 47,
     "metadata": {},
     "output_type": "execute_result"
    }
   ],
   "source": [
    "mycard"
   ]
  },
  {
   "cell_type": "code",
   "execution_count": 48,
   "metadata": {},
   "outputs": [
    {
     "name": "stdout",
     "output_type": "stream",
     "text": [
      "King of Hearts\n"
     ]
    }
   ],
   "source": [
    "print(mycard)"
   ]
  },
  {
   "cell_type": "code",
   "execution_count": 49,
   "metadata": {},
   "outputs": [
    {
     "data": {
      "text/plain": [
       "51"
      ]
     },
     "execution_count": 49,
     "metadata": {},
     "output_type": "execute_result"
    }
   ],
   "source": [
    "len(new_deck.all_cards)"
   ]
  },
  {
   "cell_type": "markdown",
   "metadata": {},
   "source": [
    "### Create Player Class"
   ]
  },
  {
   "cell_type": "code",
   "execution_count": 50,
   "metadata": {},
   "outputs": [],
   "source": [
    "## take a card from top of list -- .pop(0) at position zero\n",
    "## add a single card to bottom of list -- .append() defaults to end of list\n",
    "## add multiple cards to botto of list -- .extend(new) merge new lest to old list \n",
    "##// .append(new) would create a nested list"
   ]
  },
  {
   "cell_type": "code",
   "execution_count": 165,
   "metadata": {},
   "outputs": [],
   "source": [
    "class Player:\n",
    "    \n",
    "    def __init__(self,name):\n",
    "        \n",
    "        self.name = name\n",
    "        self.all_cards = []\n",
    "        \n",
    "    def remove_one(self):\n",
    "        return self.all_cards.pop(0)\n",
    "    \n",
    "    def add_cards(self,new_cards):\n",
    "        ## new cards can be a single card or multiple cards\n",
    "        if type(new_cards) == type([]):\n",
    "            \n",
    "            # add: list of multiple cards to bottom w/ .extend()\n",
    "            self.all_cards.extend(new_cards)\n",
    "        else:\n",
    "            # add: single card to bottom w/  .append()\n",
    "            self.all_cards.append(new_cards)\n",
    "    \n",
    "    ## create string method so u can print info about player isntead of seeing the object's space in memory\n",
    "    def __str__(self):\n",
    "        return f'Player {self.name} has {len(self.all_cards)} cards.'"
   ]
  },
  {
   "cell_type": "code",
   "execution_count": 61,
   "metadata": {},
   "outputs": [],
   "source": [
    "new_player = Player('Jose')"
   ]
  },
  {
   "cell_type": "code",
   "execution_count": 62,
   "metadata": {},
   "outputs": [
    {
     "name": "stdout",
     "output_type": "stream",
     "text": [
      "Player Jose has 0 cards.\n"
     ]
    }
   ],
   "source": [
    "print(new_player)"
   ]
  },
  {
   "cell_type": "code",
   "execution_count": 65,
   "metadata": {},
   "outputs": [
    {
     "name": "stdout",
     "output_type": "stream",
     "text": [
      "King of Hearts\n"
     ]
    }
   ],
   "source": [
    "print(mycard)"
   ]
  },
  {
   "cell_type": "code",
   "execution_count": 80,
   "metadata": {},
   "outputs": [],
   "source": [
    "new_player.add_cards(mycard)"
   ]
  },
  {
   "cell_type": "code",
   "execution_count": 81,
   "metadata": {},
   "outputs": [
    {
     "name": "stdout",
     "output_type": "stream",
     "text": [
      "Player Jose has 1 cards.\n"
     ]
    }
   ],
   "source": [
    "print(new_player)"
   ]
  },
  {
   "cell_type": "code",
   "execution_count": 82,
   "metadata": {},
   "outputs": [
    {
     "name": "stdout",
     "output_type": "stream",
     "text": [
      "King of Hearts\n"
     ]
    }
   ],
   "source": [
    "print(new_player.all_cards[0])"
   ]
  },
  {
   "cell_type": "code",
   "execution_count": 83,
   "metadata": {},
   "outputs": [
    {
     "name": "stdout",
     "output_type": "stream",
     "text": [
      "King of Hearts\n"
     ]
    }
   ],
   "source": [
    "for card in new_player.all_cards:\n",
    "    print(card)"
   ]
  },
  {
   "cell_type": "code",
   "execution_count": 79,
   "metadata": {},
   "outputs": [
    {
     "ename": "IndexError",
     "evalue": "pop from empty list",
     "output_type": "error",
     "traceback": [
      "\u001b[0;31m---------------------------------------------------------------------------\u001b[0m",
      "\u001b[0;31mIndexError\u001b[0m                                Traceback (most recent call last)",
      "\u001b[0;32m<ipython-input-79-4f221b7dd9ea>\u001b[0m in \u001b[0;36m<module>\u001b[0;34m\u001b[0m\n\u001b[0;32m----> 1\u001b[0;31m \u001b[0mnew_player\u001b[0m\u001b[0;34m.\u001b[0m\u001b[0mremove_one\u001b[0m\u001b[0;34m(\u001b[0m\u001b[0;34m)\u001b[0m\u001b[0;34m\u001b[0m\u001b[0;34m\u001b[0m\u001b[0m\n\u001b[0m",
      "\u001b[0;32m<ipython-input-60-34d2a67b96b4>\u001b[0m in \u001b[0;36mremove_one\u001b[0;34m(self)\u001b[0m\n\u001b[1;32m      7\u001b[0m \u001b[0;34m\u001b[0m\u001b[0m\n\u001b[1;32m      8\u001b[0m     \u001b[0;32mdef\u001b[0m \u001b[0mremove_one\u001b[0m\u001b[0;34m(\u001b[0m\u001b[0mself\u001b[0m\u001b[0;34m)\u001b[0m\u001b[0;34m:\u001b[0m\u001b[0;34m\u001b[0m\u001b[0;34m\u001b[0m\u001b[0m\n\u001b[0;32m----> 9\u001b[0;31m         \u001b[0;32mreturn\u001b[0m \u001b[0mself\u001b[0m\u001b[0;34m.\u001b[0m\u001b[0mall_cards\u001b[0m\u001b[0;34m.\u001b[0m\u001b[0mpop\u001b[0m\u001b[0;34m(\u001b[0m\u001b[0;36m0\u001b[0m\u001b[0;34m)\u001b[0m\u001b[0;34m\u001b[0m\u001b[0;34m\u001b[0m\u001b[0m\n\u001b[0m\u001b[1;32m     10\u001b[0m \u001b[0;34m\u001b[0m\u001b[0m\n\u001b[1;32m     11\u001b[0m     \u001b[0;32mdef\u001b[0m \u001b[0madd_cards\u001b[0m\u001b[0;34m(\u001b[0m\u001b[0mself\u001b[0m\u001b[0;34m,\u001b[0m\u001b[0mnew_cards\u001b[0m\u001b[0;34m)\u001b[0m\u001b[0;34m:\u001b[0m\u001b[0;34m\u001b[0m\u001b[0;34m\u001b[0m\u001b[0m\n",
      "\u001b[0;31mIndexError\u001b[0m: pop from empty list"
     ]
    }
   ],
   "source": [
    "new_player.remove_one()"
   ]
  },
  {
   "cell_type": "code",
   "execution_count": 78,
   "metadata": {},
   "outputs": [
    {
     "name": "stdout",
     "output_type": "stream",
     "text": [
      "Player Jose has 0 cards.\n"
     ]
    }
   ],
   "source": [
    "print(new_player)"
   ]
  },
  {
   "cell_type": "markdown",
   "metadata": {},
   "source": [
    "## GAME LOGIC"
   ]
  },
  {
   "cell_type": "code",
   "execution_count": 108,
   "metadata": {},
   "outputs": [
    {
     "name": "stdout",
     "output_type": "stream",
     "text": [
      "<class 'int'>\n",
      "<class 'float'>\n",
      "<class 'int'>\n"
     ]
    }
   ],
   "source": [
    "print(type(len(new_deck.all_cards)))\n",
    "print(type(len(new_deck.all_cards) / 2))\n",
    "print(type(len(new_deck.all_cards) // 2))"
   ]
  },
  {
   "cell_type": "code",
   "execution_count": 217,
   "metadata": {},
   "outputs": [],
   "source": [
    "## GAME SETUP\n",
    "\n",
    "## call  Player() class constructor and pass in a name value for 2 players\n",
    "player_one = Player(\"One\")\n",
    "player_two = Player(\"Two\")\n",
    "\n",
    "# Create new deck with Deck() constructor\n",
    "new_deck = Deck()\n",
    "    \n",
    "# use shuffle method from Deck() class on new_deck object to shuffle cards\n",
    "new_deck.shuffle()\n",
    "\n",
    "# Deal the deck to both players    \n",
    "## TypeError : for x in range((len(new_deck.all_cards)/ 2)): -- why is range returning a float?\n",
    "for x in range((len(new_deck.all_cards)// 2)):\n",
    "    player_one.add_cards(new_deck.deal_one())\n",
    "    player_two.add_cards(new_deck.deal_one())\n",
    "    \n",
    "    #print('player one is dealt: ', player_one.all_cards[x])\n",
    "    #print('player two is dealt: ', player_two.all_cards[x])\n",
    "\n",
    "game_on = True"
   ]
  },
  {
   "cell_type": "code",
   "execution_count": 218,
   "metadata": {},
   "outputs": [
    {
     "name": "stdout",
     "output_type": "stream",
     "text": [
      "Round 1\n",
      "Round 2\n",
      "Round 3\n",
      "Round 4\n",
      "Round 5\n",
      "Round 6\n",
      "Round 7\n",
      "Round 8\n",
      "WAR!@!!\n",
      "Round 9\n",
      "Round 10\n",
      "WAR!@!!\n",
      "Round 11\n",
      "Round 12\n",
      "Round 13\n",
      "Round 14\n",
      "Round 15\n",
      "Round 16\n",
      "Round 17\n",
      "Round 18\n",
      "Round 19\n",
      "Round 20\n",
      "Round 21\n",
      "Round 22\n",
      "Round 23\n",
      "Round 24\n",
      "Round 25\n",
      "Round 26\n",
      "Round 27\n",
      "Round 28\n",
      "Round 29\n",
      "Round 30\n",
      "Round 31\n",
      "Round 32\n",
      "Round 33\n",
      "Round 34\n",
      "Round 35\n",
      "Round 36\n",
      "Round 37\n",
      "Round 38\n",
      "Round 39\n",
      "Round 40\n",
      "Round 41\n",
      "Round 42\n",
      "Round 43\n",
      "Round 44\n",
      "Round 45\n",
      "Round 46\n",
      "Round 47\n",
      "Round 48\n",
      "Round 49\n",
      "Round 50\n",
      "Round 51\n",
      "Round 52\n",
      "Round 53\n",
      "Round 54\n",
      "Round 55\n",
      "Round 56\n",
      "Round 57\n",
      "Round 58\n",
      "Round 59\n",
      "Round 60\n",
      "Round 61\n",
      "Round 62\n",
      "Round 63\n",
      "Round 64\n",
      "Round 65\n",
      "Round 66\n",
      "Round 67\n",
      "Round 68\n",
      "Round 69\n",
      "Round 70\n",
      "Round 71\n",
      "Round 72\n",
      "Round 73\n",
      "Round 74\n",
      "Round 75\n",
      "WAR!@!!\n",
      "Round 76\n",
      "Round 77\n",
      "Round 78\n",
      "Round 79\n",
      "Round 80\n",
      "Round 81\n",
      "Round 82\n",
      "Round 83\n",
      "Round 84\n",
      "Round 85\n",
      "Round 86\n",
      "Round 87\n",
      "Round 88\n",
      "Round 89\n",
      "Round 90\n",
      "Round 91\n",
      "Round 92\n",
      "Round 93\n",
      "Round 94\n",
      "Round 95\n",
      "Round 96\n",
      "Round 97\n",
      "Round 98\n",
      "Round 99\n",
      "Round 100\n",
      "Round 101\n",
      "Round 102\n",
      "Round 103\n",
      "Round 104\n",
      "Round 105\n",
      "Round 106\n",
      "Round 107\n",
      "Round 108\n",
      "Round 109\n",
      "Round 110\n",
      "Round 111\n",
      "Round 112\n",
      "WAR!@!!\n",
      "Round 113\n",
      "Round 114\n",
      "Round 115\n",
      "Round 116\n",
      "Round 117\n",
      "Round 118\n",
      "Round 119\n",
      "WAR!@!!\n",
      "Round 120\n",
      "Round 121\n",
      "Round 122\n",
      "Round 123\n",
      "Round 124\n",
      "Round 125\n",
      "Round 126\n",
      "Round 127\n",
      "Round 128\n",
      "Round 129\n",
      "Round 130\n",
      "Round 131\n",
      "Round 132\n",
      "Round 133\n",
      "Round 134\n",
      "Round 135\n",
      "Round 136\n",
      "Round 137\n",
      "Round 138\n",
      "Round 139\n",
      "Round 140\n",
      "Round 141\n",
      "Round 142\n",
      "Round 143\n",
      "Round 144\n",
      "Round 145\n",
      "Round 146\n",
      "Round 147\n",
      "Round 148\n",
      "Round 149\n",
      "Round 150\n",
      "Round 151\n",
      "Round 152\n",
      "Round 153\n",
      "Round 154\n",
      "Round 155\n",
      "Round 156\n",
      "Round 157\n",
      "WAR!@!!\n",
      "Round 158\n",
      "Round 159\n",
      "Round 160\n",
      "Round 161\n",
      "Round 162\n",
      "WAR!@!!\n",
      "Round 163\n",
      "Round 164\n",
      "Round 165\n",
      "Round 166\n",
      "Round 167\n",
      "Round 168\n",
      "Round 169\n",
      "Round 170\n",
      "Round 171\n",
      "Round 172\n",
      "Round 173\n",
      "Round 174\n",
      "Round 175\n",
      "Round 176\n",
      "Round 177\n",
      "Round 178\n",
      "Round 179\n",
      "Round 180\n",
      "WAR!@!!\n",
      "Round 181\n",
      "Round 182\n",
      "Round 183\n",
      "Round 184\n",
      "Round 185\n",
      "Round 186\n",
      "Round 187\n",
      "Round 188\n",
      "Round 189\n",
      "WAR!@!!\n",
      "Round 190\n",
      "Round 191\n",
      "Round 192\n",
      "Round 193\n",
      "Round 194\n",
      "Round 195\n",
      "Round 196\n",
      "Round 197\n",
      "Round 198\n",
      "Round 199\n",
      "Round 200\n",
      "Round 201\n",
      "WAR!@!!\n",
      "Round 202\n",
      "Round 203\n",
      "Round 204\n",
      "Round 205\n",
      "Round 206\n",
      "Round 207\n",
      "Round 208\n",
      "Round 209\n",
      "Round 210\n",
      "Round 211\n",
      "Round 212\n",
      "Round 213\n",
      "WAR!@!!\n",
      "Round 214\n",
      "Round 215\n",
      "Round 216\n",
      "Round 217\n",
      "Round 218\n",
      "Round 219\n",
      "Round 220\n",
      "WAR!@!!\n",
      "Round 221\n",
      "Round 222\n",
      "Round 223\n",
      "Round 224\n",
      "Round 225\n",
      "WAR!@!!\n",
      "Round 226\n",
      "Round 227\n",
      "Round 228\n",
      "Round 229\n",
      "Round 230\n",
      "Round 231\n",
      "Round 232\n",
      "Round 233\n",
      "Round 234\n",
      "Round 235\n",
      "Round 236\n",
      "Round 237\n",
      "Round 238\n",
      "Round 239\n",
      "Round 240\n",
      "Round 241\n",
      "Round 242\n",
      "Round 243\n",
      "Round 244\n",
      "Round 245\n",
      "Round 246\n",
      "Round 247\n",
      "Round 248\n",
      "Round 249\n",
      "Round 250\n",
      "Round 251\n",
      "Round 252\n",
      "Round 253\n",
      "Round 254\n",
      "Round 255\n",
      "Round 256\n",
      "Round 257\n",
      "Round 258\n",
      "Round 259\n",
      "Round 260\n",
      "Round 261\n",
      "Round 262\n",
      "Round 263\n",
      "Round 264\n",
      "Round 265\n",
      "Round 266\n",
      "Round 267\n",
      "Round 268\n",
      "Round 269\n",
      "Round 270\n",
      "WAR!@!!\n",
      "Round 271\n",
      "Round 272\n",
      "Round 273\n",
      "Player one is out of cards:  PLAYER 2 WINS\n"
     ]
    }
   ],
   "source": [
    "# WHILE GAME_ON = TRUE\n",
    "\n",
    "round_num = 0\n",
    "\n",
    "while game_on:\n",
    "    \n",
    "    #track the rounds\n",
    "    round_num += 1\n",
    "    print(f'Round {round_num}')\n",
    "    \n",
    "    # WIN CHECK -- if player 1 or 2 has no cards left\n",
    "    if len(player_one.all_cards) == 0:\n",
    "        print('Player one is out of cards:  PLAYER 2 WINS')\n",
    "        \n",
    "        # set game_on to false to stop LOOP: while game_on:\n",
    "        game_on = False\n",
    "        break\n",
    "        \n",
    "        \n",
    "    if len(player_one.all_cards) == 0:\n",
    "        print('Player one is out of cards:  PLAYER 2 WINS')\n",
    "        \n",
    "        # set game_on to false to stop LOOP: while game_on:\n",
    "        game_on = False\n",
    "        break\n",
    "        \n",
    "    # START A NEW ROUND\n",
    "    \n",
    "    # create var for the cards a player is going to put down during the round\n",
    "    player_one_cards = []\n",
    "    player_one_cards.append(player_one.remove_one())\n",
    "    \n",
    "    # pop a card off from players deck with .remove_one() method from player class\n",
    "    # append the card to the card list on the table\n",
    "    \n",
    "    \n",
    "    player_two_cards = []\n",
    "    player_two_cards.append(player_two.remove_one())\n",
    "\n",
    "    # WHILE AT_WAR = TRUE   --- if / elif / else \n",
    "    \n",
    "    # Option 1: player 1 > 2\n",
    "    # Option 2: player 1 < 2\n",
    "    # Option 3: player 1 == 2\n",
    "    \n",
    "    ## War Rules: if TIE , each player draws 5 cards... LOSE if Player does NOT have at least 5 cards to draw\n",
    "    \n",
    "    at_war = True\n",
    "    \n",
    "    while at_war:\n",
    "        \n",
    "        ## negative one will look at the last card in the stack of played cards\n",
    "        \n",
    "        # PLAYER ONE WINS THE ROUND\n",
    "        if player_one_cards[-1].value > player_two_cards[-1].value:\n",
    "            \n",
    "            ## add cards to player1 for both cardsets\n",
    "            player_one.add_cards(player_one_cards)\n",
    "            player_one.add_cards(player_two_cards)\n",
    "            random.shuffle(player_one.all_cards)\n",
    "            \n",
    "            at_war = False\n",
    "        \n",
    "        elif player_one_cards[-1].value < player_two_cards[-1].value:\n",
    "            \n",
    "            ## add cards to player1 for both cardsets\n",
    "            player_two.add_cards(player_one_cards)\n",
    "            player_two.add_cards(player_two_cards)\n",
    "            player_two.all_cards\n",
    "            \n",
    "            at_war = False\n",
    "            \n",
    "        else:\n",
    "            print('WAR!@!!')\n",
    "            \n",
    "            ## CHECK IF ENOUGH CARDS IN DECK FOR PLAYER TO GOTO WAR:\n",
    "            \n",
    "            if len(player_one.all_cards) < 3:\n",
    "                print('Player One cannot declar war')\n",
    "                print('PLAYER TWO WINS')\n",
    "                game_on = False\n",
    "                break\n",
    "                \n",
    "            elif len(player_two.all_cards) < 3:\n",
    "                print('Player Two cannot declar war')\n",
    "                print('PLAYER ONE WINS')\n",
    "                game_on = False\n",
    "                break\n",
    "                \n",
    "            else:\n",
    "                for num in range(3):\n",
    "                    player_one_cards.append(player_one.remove_one())\n",
    "                    player_two_cards.append(player_two.remove_one())\n",
    "                    \n",
    "            \n"
   ]
  },
  {
   "cell_type": "code",
   "execution_count": 175,
   "metadata": {},
   "outputs": [
    {
     "name": "stdout",
     "output_type": "stream",
     "text": [
      "King of Spades\n",
      "Six of Diamonds\n",
      "Ten of Spades\n",
      "Four of Clubs\n",
      "Nine of Diamonds\n",
      "Eight of Spades\n",
      "Ten of Clubs\n",
      "Four of Hearts\n",
      "Queen of Clubs\n",
      "Three of Hearts\n",
      "Ace of Diamonds\n",
      "Six of Hearts\n",
      "Nine of Clubs\n",
      "Three of Spades\n",
      "Queen of Diamonds\n",
      "Six of Spades\n",
      "Queen of Spades\n",
      "Five of Clubs\n",
      "King of Clubs\n",
      "Two of Hearts\n",
      "Eight of Diamonds\n",
      "Six of Clubs\n",
      "Queen of Hearts\n",
      "Four of Diamonds\n",
      "Jack of Hearts\n",
      "Two of Diamonds\n"
     ]
    }
   ],
   "source": [
    "for x in player_one.all_cards:\n",
    "    print(x)\n"
   ]
  },
  {
   "cell_type": "code",
   "execution_count": 176,
   "metadata": {},
   "outputs": [
    {
     "name": "stdout",
     "output_type": "stream",
     "text": [
      "Four of Spades\n",
      "Jack of Clubs\n",
      "Seven of Clubs\n",
      "King of Hearts\n",
      "Five of Spades\n",
      "Jack of Spades\n",
      "Seven of Hearts\n",
      "Ace of Clubs\n",
      "Two of Spades\n",
      "Ten of Diamonds\n",
      "Five of Hearts\n",
      "Nine of Hearts\n",
      "Three of Diamonds\n",
      "Jack of Diamonds\n",
      "Seven of Spades\n",
      "Ace of Spades\n",
      "Eight of Hearts\n",
      "Ace of Hearts\n",
      "Two of Clubs\n",
      "Eight of Clubs\n",
      "Five of Diamonds\n",
      "Nine of Spades\n",
      "Three of Clubs\n",
      "Ten of Hearts\n",
      "Seven of Diamonds\n",
      "King of Diamonds\n"
     ]
    }
   ],
   "source": [
    "for x in player_two.all_cards:\n",
    "    print(x)"
   ]
  },
  {
   "cell_type": "code",
   "execution_count": null,
   "metadata": {},
   "outputs": [],
   "source": []
  }
 ],
 "metadata": {
  "kernelspec": {
   "display_name": "Python 3",
   "language": "python",
   "name": "python3"
  },
  "language_info": {
   "codemirror_mode": {
    "name": "ipython",
    "version": 3
   },
   "file_extension": ".py",
   "mimetype": "text/x-python",
   "name": "python",
   "nbconvert_exporter": "python",
   "pygments_lexer": "ipython3",
   "version": "3.8.5"
  }
 },
 "nbformat": 4,
 "nbformat_minor": 4
}
