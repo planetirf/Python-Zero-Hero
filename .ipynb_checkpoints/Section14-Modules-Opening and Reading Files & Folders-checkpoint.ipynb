{
 "cells": [
  {
   "cell_type": "markdown",
   "metadata": {},
   "source": [
    "# Opening and Reading - Files and Folders\n"
   ]
  },
  {
   "cell_type": "code",
   "execution_count": 1,
   "metadata": {},
   "outputs": [
    {
     "data": {
      "text/plain": [
       "'/Users/Irf/Projects/Python/Complete Python Bootcamp 2021'"
      ]
     },
     "execution_count": 1,
     "metadata": {},
     "output_type": "execute_result"
    }
   ],
   "source": [
    "pwd"
   ]
  },
  {
   "cell_type": "code",
   "execution_count": 4,
   "metadata": {},
   "outputs": [],
   "source": [
    "f = open('practice.txt', 'w+')\n",
    "f.write('This is a test string')\n",
    "f.close()"
   ]
  },
  {
   "cell_type": "markdown",
   "metadata": {},
   "source": [
    "# OS MODULE"
   ]
  },
  {
   "cell_type": "code",
   "execution_count": 5,
   "metadata": {},
   "outputs": [],
   "source": [
    "import os"
   ]
  },
  {
   "cell_type": "code",
   "execution_count": 6,
   "metadata": {},
   "outputs": [
    {
     "data": {
      "text/plain": [
       "'/Users/Irf/Projects/Python/Complete Python Bootcamp 2021'"
      ]
     },
     "execution_count": 6,
     "metadata": {},
     "output_type": "execute_result"
    }
   ],
   "source": [
    "os.getcwd()"
   ]
  },
  {
   "cell_type": "code",
   "execution_count": 8,
   "metadata": {},
   "outputs": [
    {
     "data": {
      "text/plain": [
       "['Section8-Python-OOP-Homework-IRF.ipynb',\n",
       " 'Section3-Python-Input-Output.ipynb',\n",
       " 'one.py',\n",
       " 'Section4-Python-Control-Flow.ipynb',\n",
       " 'Section13-Iterators and Generators Homework-IRF.ipynb',\n",
       " 'capitalize_script.py',\n",
       " '.DS_Store',\n",
       " 'Section3-Python-Objects and Data Structures Assessment Test-IRF.ipynb',\n",
       " 'Complete-Python-3-Bootcamp',\n",
       " 'Section3-Python-Dictionaries.ipynb',\n",
       " 'Section11-Python-Milestone 2 Warmup.ipynb',\n",
       " 'Section8--OOP Challenge-IRF.ipynb',\n",
       " 'Complete-Python-3-Bootcamp_03-Methods and Functions_.html',\n",
       " 'Complete-Python-3-Bootcamp_04-Milestone Project - 1_.html',\n",
       " 'Section3-Python-Sets-N-Boolean.ipynb',\n",
       " 'practice.txt',\n",
       " 'Section12-Decorators1.ipynb',\n",
       " 'Section10-Python-Error-N-Exceptions.ipynb',\n",
       " 'two.py',\n",
       " 'Section14-Modules-Opening and Reading Files & Folders.ipynb',\n",
       " 'test-VS-jupyter-notebook.ipynb',\n",
       " 'Section10-Errors and Exceptions Homework.ipynb',\n",
       " '__pycache__',\n",
       " 'Section6-Python-NestedStatementsScope.ipynb',\n",
       " 'mainpackage',\n",
       " 'Section10-Python-Testing.ipynb',\n",
       " 'simple1.py',\n",
       " 'irf_new_file.txt',\n",
       " 'Section8-Python-OOP.ipynb',\n",
       " 'myprogram.py',\n",
       " 'not_exist.txt',\n",
       " 'Simple2.py',\n",
       " 'Section7-Milestone-IRF.ipynb',\n",
       " 'Section3-Python-Tuples.ipynb',\n",
       " 'Section14-Modules-Collections.ipynb',\n",
       " 'Section6-Python-Functions-Excercise1-IRF.ipynb',\n",
       " 'myexample.py',\n",
       " 'Section6-Python-Methods-Functions-1.ipynb',\n",
       " 'test_capitalize_script.py',\n",
       " 'Section7-Python-Warmups.ipynb',\n",
       " 'Section5-Python-Statements-Test-IRF.ipynb',\n",
       " 'Section3-Python-Numbers.ipynb',\n",
       " 'Section6-Python-Functions-LambdaMapFilter.ipynb',\n",
       " 'mymodule.py',\n",
       " 'myfile.txt',\n",
       " '.ipynb_checkpoints',\n",
       " 'Section3-Python-Lists.ipynb',\n",
       " 'Section13-Iterators and Generators Homework - Solution-IRF.ipynb',\n",
       " 'Section12-Decorators.ipynb',\n",
       " 'Section6-Python-Homework.ipynb',\n",
       " 'Section11-Milestone Project 2 - Walkthrough Steps Workbook-IRF.ipynb',\n",
       " '.git',\n",
       " '03-Milestone Project 2 - Complete Walkthrough Solution.ipynb',\n",
       " 'Section13-Generators.ipynb',\n",
       " 'Section12-Decorators Homework-IRF.ipynb',\n",
       " 'Section6-Python-Functions-args-kwargs.ipynb',\n",
       " 'testfile']"
      ]
     },
     "execution_count": 8,
     "metadata": {},
     "output_type": "execute_result"
    }
   ],
   "source": [
    "os.listdir()"
   ]
  },
  {
   "cell_type": "code",
   "execution_count": 10,
   "metadata": {},
   "outputs": [
    {
     "data": {
      "text/plain": [
       "['.Rhistory',\n",
       " '.eclipse',\n",
       " '.config',\n",
       " 'Music',\n",
       " '.condarc',\n",
       " '.install4j',\n",
       " '.node-gyp',\n",
       " '.jkiss-lm',\n",
       " '.pyfa',\n",
       " '.DS_Store',\n",
       " '.r',\n",
       " '.CFUserTextEncoding',\n",
       " '.qgis2',\n",
       " '.mongorc.js.orig',\n",
       " '.subversion',\n",
       " '.bashrc',\n",
       " '.adobe',\n",
       " '.mime.types',\n",
       " '.local',\n",
       " '.psql_history',\n",
       " 'Creative Cloud Files',\n",
       " 'Projects',\n",
       " 'Pictures',\n",
       " '.pylint.d',\n",
       " '.atom',\n",
       " 'node_modules',\n",
       " '.openjfx',\n",
       " '.cookiecutters',\n",
       " 'Blizzard',\n",
       " 'iainuddi@calpoly.edu Creative Cloud Files',\n",
       " '.ipython',\n",
       " 'Desktop',\n",
       " 'Library',\n",
       " '.matplotlib',\n",
       " '.lesshst',\n",
       " 'Zotero',\n",
       " '.bash_profile.pysave',\n",
       " '.node_repl_history',\n",
       " '.android',\n",
       " '.wacom',\n",
       " '.pgadmin',\n",
       " '.cups',\n",
       " 'Sites',\n",
       " '.bash_sessions',\n",
       " 'Public',\n",
       " '.dropbox',\n",
       " 'package-lock.json',\n",
       " '.anaconda',\n",
       " '.ssh',\n",
       " 'Movies',\n",
       " 'Applications',\n",
       " '.dbshell',\n",
       " 'Dropbox',\n",
       " '.cookiecutter_replay',\n",
       " '.Rapp.history',\n",
       " 'opt',\n",
       " '.Trash',\n",
       " '.jupyter',\n",
       " '.npm',\n",
       " 'Documents',\n",
       " '.mailcap',\n",
       " '.pyenv',\n",
       " '.rstudio-desktop',\n",
       " '.mono',\n",
       " '.vscode',\n",
       " '.bash_profile',\n",
       " 'Downloads',\n",
       " '.python_history',\n",
       " 'tmp',\n",
       " '.cache',\n",
       " 'Games',\n",
       " '.gitconfig',\n",
       " '.DbSchema',\n",
       " 'X',\n",
       " '.mongorc.js',\n",
       " '.bash_history',\n",
       " '.viminfo',\n",
       " '.httpie',\n",
       " '.conda']"
      ]
     },
     "execution_count": 10,
     "metadata": {},
     "output_type": "execute_result"
    }
   ],
   "source": [
    "os.listdir('/Users/Irf')"
   ]
  },
  {
   "cell_type": "code",
   "execution_count": 11,
   "metadata": {},
   "outputs": [],
   "source": [
    "import shutil"
   ]
  },
  {
   "cell_type": "code",
   "execution_count": 12,
   "metadata": {},
   "outputs": [
    {
     "data": {
      "text/plain": [
       "'/Users/Irf/Projects/practice.txt'"
      ]
     },
     "execution_count": 12,
     "metadata": {},
     "output_type": "execute_result"
    }
   ],
   "source": [
    "shutil.move('practice.txt', '/Users/Irf/Projects/' )"
   ]
  },
  {
   "cell_type": "code",
   "execution_count": 13,
   "metadata": {},
   "outputs": [
    {
     "data": {
      "text/plain": [
       "['Kandelous',\n",
       " '.DS_Store',\n",
       " 'Python',\n",
       " 'practice.txt',\n",
       " 'Learning to Program',\n",
       " 'SolarSystem',\n",
       " 'irrigation_website']"
      ]
     },
     "execution_count": 13,
     "metadata": {},
     "output_type": "execute_result"
    }
   ],
   "source": [
    "os.listdir('/Users/Irf/Projects/')"
   ]
  },
  {
   "cell_type": "code",
   "execution_count": null,
   "metadata": {
    "collapsed": true
   },
   "outputs": [],
   "source": []
  },
  {
   "cell_type": "code",
   "execution_count": null,
   "metadata": {},
   "outputs": [],
   "source": []
  },
  {
   "cell_type": "code",
   "execution_count": null,
   "metadata": {},
   "outputs": [],
   "source": []
  },
  {
   "cell_type": "code",
   "execution_count": null,
   "metadata": {},
   "outputs": [],
   "source": []
  },
  {
   "cell_type": "code",
   "execution_count": null,
   "metadata": {},
   "outputs": [],
   "source": []
  },
  {
   "cell_type": "code",
   "execution_count": null,
   "metadata": {},
   "outputs": [],
   "source": []
  },
  {
   "cell_type": "code",
   "execution_count": null,
   "metadata": {},
   "outputs": [],
   "source": []
  },
  {
   "cell_type": "code",
   "execution_count": null,
   "metadata": {},
   "outputs": [],
   "source": []
  },
  {
   "cell_type": "code",
   "execution_count": null,
   "metadata": {},
   "outputs": [],
   "source": []
  },
  {
   "cell_type": "code",
   "execution_count": null,
   "metadata": {},
   "outputs": [],
   "source": []
  },
  {
   "cell_type": "code",
   "execution_count": null,
   "metadata": {},
   "outputs": [],
   "source": []
  }
 ],
 "metadata": {
  "kernelspec": {
   "display_name": "Python 3",
   "language": "python",
   "name": "python3"
  },
  "language_info": {
   "codemirror_mode": {
    "name": "ipython",
    "version": 3
   },
   "file_extension": ".py",
   "mimetype": "text/x-python",
   "name": "python",
   "nbconvert_exporter": "python",
   "pygments_lexer": "ipython3",
   "version": "3.8.5"
  }
 },
 "nbformat": 4,
 "nbformat_minor": 4
}
