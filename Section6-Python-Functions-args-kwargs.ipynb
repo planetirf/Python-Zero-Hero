{
 "cells": [
  {
   "cell_type": "markdown",
   "metadata": {},
   "source": [
    " ## *args & ***kwargs"
   ]
  },
  {
   "cell_type": "code",
   "execution_count": 1,
   "metadata": {},
   "outputs": [],
   "source": [
    "def myfunc(a,b,c,d):\n",
    "    #return 5% of sum of a and b\n",
    "    return sum((a,b,c,d)) * 0.05"
   ]
  },
  {
   "cell_type": "code",
   "execution_count": 2,
   "metadata": {},
   "outputs": [
    {
     "data": {
      "text/plain": [
       "15.0"
      ]
     },
     "execution_count": 2,
     "metadata": {},
     "output_type": "execute_result"
    }
   ],
   "source": [
    "myfunc(40,60,100,100)"
   ]
  },
  {
   "cell_type": "code",
   "execution_count": 3,
   "metadata": {},
   "outputs": [
    {
     "ename": "TypeError",
     "evalue": "myfunc() takes 4 positional arguments but 6 were given",
     "output_type": "error",
     "traceback": [
      "\u001b[0;31m---------------------------------------------------------------------------\u001b[0m",
      "\u001b[0;31mTypeError\u001b[0m                                 Traceback (most recent call last)",
      "\u001b[0;32m<ipython-input-3-359b967a578f>\u001b[0m in \u001b[0;36m<module>\u001b[0;34m\u001b[0m\n\u001b[0;32m----> 1\u001b[0;31m \u001b[0mmyfunc\u001b[0m\u001b[0;34m(\u001b[0m\u001b[0;36m40\u001b[0m\u001b[0;34m,\u001b[0m\u001b[0;36m60\u001b[0m\u001b[0;34m,\u001b[0m\u001b[0;36m100\u001b[0m\u001b[0;34m,\u001b[0m\u001b[0;36m100\u001b[0m\u001b[0;34m,\u001b[0m\u001b[0;36m200\u001b[0m\u001b[0;34m,\u001b[0m\u001b[0;36m300\u001b[0m\u001b[0;34m)\u001b[0m\u001b[0;34m\u001b[0m\u001b[0;34m\u001b[0m\u001b[0m\n\u001b[0m",
      "\u001b[0;31mTypeError\u001b[0m: myfunc() takes 4 positional arguments but 6 were given"
     ]
    }
   ],
   "source": [
    "myfunc(40,60,100,100,200,300)"
   ]
  },
  {
   "cell_type": "markdown",
   "metadata": {},
   "source": [
    "**args lets you take arbitrary number of arguments"
   ]
  },
  {
   "cell_type": "code",
   "execution_count": 6,
   "metadata": {},
   "outputs": [],
   "source": [
    "def myfunc(*args):\n",
    "    ## args is default set inside of a tuple\n",
    "    print(args)\n",
    "    print(args[1])\n",
    "    return sum((args))"
   ]
  },
  {
   "cell_type": "code",
   "execution_count": 7,
   "metadata": {},
   "outputs": [
    {
     "name": "stdout",
     "output_type": "stream",
     "text": [
      "(40, 60, 100, 300, 100)\n",
      "60\n"
     ]
    },
    {
     "data": {
      "text/plain": [
       "600"
      ]
     },
     "execution_count": 7,
     "metadata": {},
     "output_type": "execute_result"
    }
   ],
   "source": [
    "myfunc(40,60,100,300,100)"
   ]
  },
  {
   "cell_type": "code",
   "execution_count": 9,
   "metadata": {},
   "outputs": [],
   "source": [
    "def myfunc(*wutever):\n",
    "    ## args is default set inside of a tuple\n",
    "    print(wutever)\n",
    "    print(wutever[1])\n",
    "    return sum((wutever))"
   ]
  },
  {
   "cell_type": "code",
   "execution_count": 10,
   "metadata": {},
   "outputs": [
    {
     "name": "stdout",
     "output_type": "stream",
     "text": [
      "(40, 60, 100, 300, 1000)\n",
      "60\n"
     ]
    },
    {
     "data": {
      "text/plain": [
       "1500"
      ]
     },
     "execution_count": 10,
     "metadata": {},
     "output_type": "execute_result"
    }
   ],
   "source": [
    "myfunc(40,60,100,300,1000)"
   ]
  },
  {
   "cell_type": "code",
   "execution_count": 33,
   "metadata": {},
   "outputs": [],
   "source": [
    "def myfunc(**kwargs):\n",
    "    ## **kwargs is default set to a dictionary\n",
    "    if 'fruit' in kwargs:\n",
    "        print('my fruit of choice is {}'.format(kwargs['fruit']))\n",
    "    else:\n",
    "        print('no foods')"
   ]
  },
  {
   "cell_type": "code",
   "execution_count": 34,
   "metadata": {},
   "outputs": [
    {
     "name": "stdout",
     "output_type": "stream",
     "text": [
      "my fruit of choice is nana\n"
     ]
    }
   ],
   "source": [
    "myfunc(fruit='nana', veggi='tater')"
   ]
  },
  {
   "cell_type": "code",
   "execution_count": 35,
   "metadata": {},
   "outputs": [],
   "source": [
    "def myfunc(**jelly):\n",
    "    print(jelly)"
   ]
  },
  {
   "cell_type": "code",
   "execution_count": 36,
   "metadata": {},
   "outputs": [
    {
     "name": "stdout",
     "output_type": "stream",
     "text": [
      "{'fruit': 'nana', 'veggi': 'tater'}\n"
     ]
    }
   ],
   "source": [
    "myfunc(fruit='nana', veggi='tater')"
   ]
  },
  {
   "cell_type": "code",
   "execution_count": 38,
   "metadata": {},
   "outputs": [],
   "source": [
    "def myfunc(*args,**kwargs):\n",
    "    print(args)\n",
    "    print(kwargs)\n",
    "    \n",
    "    print('i would like {} and {}'.format(args[0],kwargs['food']))\n",
    "    "
   ]
  },
  {
   "cell_type": "code",
   "execution_count": 39,
   "metadata": {},
   "outputs": [
    {
     "name": "stdout",
     "output_type": "stream",
     "text": [
      "(10, 20, 30)\n",
      "{'fruit': 'orange', 'food': 'nihari', 'animal': 'mole'}\n",
      "i would like 10 and nihari\n"
     ]
    }
   ],
   "source": [
    "myfunc(10,20,30, fruit = 'orange', food = 'nihari', animal = 'mole')"
   ]
  },
  {
   "cell_type": "code",
   "execution_count": 48,
   "metadata": {},
   "outputs": [
    {
     "name": "stdout",
     "output_type": "stream",
     "text": [
      "['i', ' ', 'a', 'm', ' ', 'a', ' ', 's', 't', 'r', 'i', 'n', 'g']\n"
     ]
    },
    {
     "data": {
      "text/plain": [
       "['i', ' ', 'a', 'm', ' ', 'a', ' ', 's', 't', 'r', 'i', 'n', 'g']"
      ]
     },
     "execution_count": 48,
     "metadata": {},
     "output_type": "execute_result"
    }
   ],
   "source": [
    "## skylines\n",
    "string = ('i am a string')\n",
    " \n",
    "def skyline(string):\n",
    "    print ([char[] for char in string])\n",
    "    return [char for char in string ]\n",
    "\n",
    "skyline(string)"
   ]
  },
  {
   "cell_type": "code",
   "execution_count": 86,
   "metadata": {},
   "outputs": [
    {
     "data": {
      "text/plain": [
       "'I Am A sTrInG'"
      ]
     },
     "execution_count": 86,
     "metadata": {},
     "output_type": "execute_result"
    }
   ],
   "source": [
    "## skylines\n",
    "string = ('i am a string')\n",
    "\n",
    " \n",
    "def skyline(string):\n",
    "    newstring = []\n",
    "    for char in string:\n",
    "        if string.index(char) % 2 == 0:\n",
    "            newstring.append(char.upper())\n",
    "            #print(newstring)\n",
    "        else:\n",
    "            newstring.append(char.lower())\n",
    "            #print(char.lower())\n",
    "    return \"\".join(newstring)\n",
    "\n",
    "skyline(string)\n",
    "\n",
    "## DOES NOT PASS SECTION 6 - Exercise 19 -- WHY>"
   ]
  },
  {
   "cell_type": "code",
   "execution_count": 85,
   "metadata": {},
   "outputs": [],
   "source": [
    "str().index"
   ]
  },
  {
   "cell_type": "code",
   "execution_count": 2,
   "metadata": {},
   "outputs": [
    {
     "name": "stdout",
     "output_type": "stream",
     "text": [
      "0\n",
      "1\n",
      "2\n",
      "3\n",
      "4\n",
      "5\n",
      "6\n",
      "7\n",
      "8\n",
      "9\n",
      "4\n",
      "6\n",
      "12\n",
      "8\n",
      "7\n",
      "8\n",
      "0\n",
      "17\n",
      "8\n",
      "5\n",
      "3\n",
      "21\n",
      "2\n",
      "8\n",
      "6\n",
      "7\n",
      "8\n",
      "27\n",
      "28\n",
      "5\n",
      "8\n",
      "28\n",
      "1\n",
      "0\n",
      "<class 'str'>\n"
     ]
    },
    {
     "data": {
      "text/plain": [
       "'SuPeRcAlIfRAGIlIStIcexPIAlIdOcIOuS'"
      ]
     },
     "execution_count": 2,
     "metadata": {},
     "output_type": "execute_result"
    }
   ],
   "source": [
    "string = ('supercalifragilisticexpialidocious')\n",
    "\n",
    " \n",
    "def skyline(string):\n",
    "    newstring = []\n",
    "    for char in string:\n",
    "        print(string.index(char))\n",
    "        if string.index(char) % 2 == 0:\n",
    "            char = char.upper()\n",
    "            newstring.append(char)\n",
    "            #print(newstring)\n",
    "        else:\n",
    "            char = char.lower()\n",
    "            newstring.append(char)\n",
    "            #print(char.lower())\n",
    "    crazy_string = \"\".join(newstring)\n",
    "    print(type(crazy_string))\n",
    "\n",
    "    return crazy_string\n",
    "\n",
    "skyline(string)\n",
    "\n",
    "## DOES NOT PASS SECTION 6 - Exercise 19 -- WHY>"
   ]
  },
  {
   "cell_type": "code",
   "execution_count": 22,
   "metadata": {},
   "outputs": [
    {
     "name": "stdout",
     "output_type": "stream",
     "text": [
      "0\n",
      "a\n",
      "['a']\n",
      "1\n",
      " \n",
      "['a', ' ']\n",
      "2\n",
      "s\n",
      "['a', ' ', 's']\n",
      "3\n",
      "e\n",
      "['a', ' ', 's', 'e']\n",
      "4\n",
      "c\n",
      "['a', ' ', 's', 'e', 'c']\n",
      "5\n",
      "o\n",
      "['a', ' ', 's', 'e', 'c', 'o']\n",
      "6\n",
      "n\n",
      "['a', ' ', 's', 'e', 'c', 'o', 'n']\n",
      "7\n",
      "d\n",
      "['a', ' ', 's', 'e', 'c', 'o', 'n', 'd']\n",
      "8\n",
      " \n",
      "['a', ' ', 's', 'e', 'c', 'o', 'n', 'd', ' ']\n",
      "9\n",
      "w\n",
      "['a', ' ', 's', 'e', 'c', 'o', 'n', 'd', ' ', 'w']\n",
      "10\n",
      "a\n",
      "['a', ' ', 's', 'e', 'c', 'o', 'n', 'd', ' ', 'w', 'a']\n",
      "11\n",
      "y\n",
      "['a', ' ', 's', 'e', 'c', 'o', 'n', 'd', ' ', 'w', 'a', 'y']\n"
     ]
    },
    {
     "data": {
      "text/plain": [
       "'a second way'"
      ]
     },
     "execution_count": 22,
     "metadata": {},
     "output_type": "execute_result"
    }
   ],
   "source": [
    "string = \"a second way\"\n",
    "\n",
    "def skyline(string):\n",
    "    newstring = []\n",
    "    ## create a sequence of numbers represneting each position in the string with range()\n",
    "    ## then \n",
    "    for char in range(len(string)):\n",
    "        if char %2 == 0:\n",
    "            print (char)\n",
    "            print(string[char])\n",
    "            \n",
    "            newstring.append(string[char])\n",
    "            print(newstring)\n",
    "        else:\n",
    "            print (char)\n",
    "            print(string[char])\n",
    "            \n",
    "            newstring.append(string[char])\n",
    "            print(newstring)\n",
    "            \n",
    "    return \"\".join(newstring)\n",
    "    \n",
    "        \n",
    "skyline(string)\n",
    "\n",
    "### weeee it works without breaking!!!!\n",
    "\n",
    "## range(len(x)) is important because index() will return the first position of wahtever is passed in, not necessarily the index of THAT specific character"
   ]
  },
  {
   "cell_type": "code",
   "execution_count": null,
   "metadata": {},
   "outputs": [],
   "source": []
  }
 ],
 "metadata": {
  "kernelspec": {
   "display_name": "Python 3",
   "language": "python",
   "name": "python3"
  },
  "language_info": {
   "codemirror_mode": {
    "name": "ipython",
    "version": 3
   },
   "file_extension": ".py",
   "mimetype": "text/x-python",
   "name": "python",
   "nbconvert_exporter": "python",
   "pygments_lexer": "ipython3",
   "version": "3.8.5"
  }
 },
 "nbformat": 4,
 "nbformat_minor": 4
}
