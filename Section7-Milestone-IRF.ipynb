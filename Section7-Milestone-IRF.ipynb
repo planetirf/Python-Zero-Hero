{
 "cells": [
  {
   "cell_type": "markdown",
   "metadata": {},
   "source": [
    "# Milestone Project 1: Walkthrough Steps Workbook\n",
    "\n",
    "Below is a set of steps for you to follow to try to create the Tic Tac Toe Milestone Project game!"
   ]
  },
  {
   "cell_type": "markdown",
   "metadata": {},
   "source": [
    "#### Some suggested tools before you get started:\n",
    "To take input from a user:\n",
    "\n",
    "    player1 = input(\"Please pick a marker 'X' or 'O'\")\n",
    "    \n",
    "Note that input() takes in a string. If you need an integer value, use\n",
    "\n",
    "    position = int(input('Please enter a number'))\n",
    "    \n",
    "<br>To clear the screen between moves:\n",
    "\n",
    "    from IPython.display import clear_output\n",
    "    clear_output()\n",
    "    \n",
    "Note that clear_output() will only work in jupyter. To clear the screen in other IDEs, consider:\n",
    "\n",
    "    print('\\n'*100)\n",
    "    \n",
    "This scrolls the previous board up out of view. Now on to the program!"
   ]
  },
  {
   "cell_type": "markdown",
   "metadata": {},
   "source": [
    "**Step 1: Write a function that can print out a board. Set up your board as a list, where each index 1-9 corresponds with a number on a number pad, so you get a 3 by 3 board representation.**"
   ]
  },
  {
   "cell_type": "code",
   "execution_count": 61,
   "metadata": {},
   "outputs": [],
   "source": [
    "from IPython.display import clear_output\n",
    "\n",
    "def display_board(board):\n",
    "    \n",
    "    print('{seven} | {eight} | {nine}'.format(seven = board[7],eight = board[8],nine = board[9]))\n",
    "    print('--|---|--')\n",
    "    print('{four} | {five} | {six}'.format(four = board[4],five = board[5],six = board[6]))\n",
    "    print('--|---|--')\n",
    "    print('{one} | {two} | {three}'.format(one = board[1],two = board[2],three = board[3]))"
   ]
  },
  {
   "cell_type": "markdown",
   "metadata": {},
   "source": [
    "**TEST Step 1:** run your function on a test version of the board list, and make adjustments as necessary"
   ]
  },
  {
   "cell_type": "code",
   "execution_count": 111,
   "metadata": {},
   "outputs": [
    {
     "name": "stdout",
     "output_type": "stream",
     "text": [
      "X | O | X\n",
      "--|---|--\n",
      "X |   | O\n",
      "--|---|--\n",
      "X | O | X\n"
     ]
    }
   ],
   "source": [
    "test_board = ['#','X','O','X','X',' ','O','X','O','X']\n",
    "display_board(test_board)"
   ]
  },
  {
   "cell_type": "markdown",
   "metadata": {},
   "source": [
    "**Step 2: Write a function that can take in a player input and assign their marker as 'X' or 'O'. Think about using *while* loops to continually ask until you get a correct answer.**"
   ]
  },
  {
   "cell_type": "code",
   "execution_count": 63,
   "metadata": {},
   "outputs": [],
   "source": [
    "def player_input():\n",
    "    \n",
    "    mark = \"\"\n",
    "    markers = ['X','O']\n",
    "    \n",
    "    ## check to see if input is correct\n",
    "    while mark not in markers:\n",
    "        mark = input(\"Player 1: Will you be X's or O's? \")\n",
    "        \n",
    "        ## add conversion from lower to upper case to make it easy on user\n",
    "        if mark.islower():\n",
    "            mark = mark.upper()\n",
    "        \n",
    "        if mark not in markers:\n",
    "            print(f\"you have selected an invalid mark: {mark}\")\n",
    "        \n",
    "    ## Assign player's their makers\n",
    "    player1 = mark\n",
    "    #print(player1)\n",
    "    #print(markers)\n",
    "    \n",
    "    ## remove does not return anything so assigning markers = markers.remove()  returns nonetype (which is whhat remove returns)\n",
    "    #markers = markers.remove(player1)\n",
    "    markers.remove(player1)\n",
    "    #print(markers)\n",
    "    \n",
    "    player2 = markers[0]        \n",
    "        \n",
    "            \n",
    "    print(f\"Player 1 has have selected {player1}'s\")\n",
    "    print(f\"Player 2 will be {player2}'s\")\n",
    "    \n",
    "    \n",
    "    return player1, player2"
   ]
  },
  {
   "cell_type": "markdown",
   "metadata": {},
   "source": [
    "**TEST Step 2:** run the function to make sure it returns the desired output"
   ]
  },
  {
   "cell_type": "code",
   "execution_count": 64,
   "metadata": {
    "scrolled": true
   },
   "outputs": [
    {
     "name": "stdout",
     "output_type": "stream",
     "text": [
      "Player 1: Will you be X's or O's? x\n",
      "Player 1 has have selected X's\n",
      "Player 2 will be O's\n"
     ]
    },
    {
     "data": {
      "text/plain": [
       "('X', 'O')"
      ]
     },
     "execution_count": 64,
     "metadata": {},
     "output_type": "execute_result"
    }
   ],
   "source": [
    "player_input()"
   ]
  },
  {
   "cell_type": "code",
   "execution_count": 65,
   "metadata": {},
   "outputs": [
    {
     "name": "stdout",
     "output_type": "stream",
     "text": [
      "Player 1: Will you be X's or O's? x\n",
      "Player 1 has have selected X's\n",
      "Player 2 will be O's\n"
     ]
    }
   ],
   "source": [
    "## tuple unpacking\n",
    "p1, p2 = player_input()"
   ]
  },
  {
   "cell_type": "markdown",
   "metadata": {},
   "source": [
    "#### **Step 3: Write a function that takes in the board list object, a marker ('X' or 'O'), and a desired position (number 1-9) and assigns it to the board.**"
   ]
  },
  {
   "cell_type": "code",
   "execution_count": 123,
   "metadata": {},
   "outputs": [],
   "source": [
    "def place_marker(board, marker, position):\n",
    "    ## y u gotta over complicate.\n",
    "    \n",
    "    ## the test board already has positions 0-9 defined\n",
    "    ## calling board[] and setting it equal to marker, sets the position value to the marker value\n",
    "    board[position] = marker\n"
   ]
  },
  {
   "cell_type": "markdown",
   "metadata": {},
   "source": [
    "**TEST Step 3:** run the place marker function using test parameters and display the modified board"
   ]
  },
  {
   "cell_type": "code",
   "execution_count": 124,
   "metadata": {},
   "outputs": [
    {
     "name": "stdout",
     "output_type": "stream",
     "text": [
      "X | $ | X\n",
      "--|---|--\n",
      "X |   | O\n",
      "--|---|--\n",
      "X | O | X\n"
     ]
    }
   ],
   "source": [
    "place_marker(test_board,'$',8)\n",
    "display_board(test_board)"
   ]
  },
  {
   "cell_type": "markdown",
   "metadata": {},
   "source": [
    "**Step 4: Write a function that takes in a board and a mark (X or O) and then checks to see if that mark has won. **"
   ]
  },
  {
   "cell_type": "code",
   "execution_count": 116,
   "metadata": {},
   "outputs": [],
   "source": [
    "def win_check(board, mark):\n",
    "    \n",
    "    display_board(board)\n",
    "    win = False\n",
    "    \n",
    "    while win == False:\n",
    "        \n",
    "        \n",
    "        ## CHECK ROWS FOR WIN ##\n",
    "        ## bottom row \n",
    "        if board[1] == mark and board[2] == mark and board[3] == mark:\n",
    "            win = True\n",
    "            return win\n",
    "        \n",
    "        ## middle row \n",
    "        if board[4] == mark and board[5] == mark and board[6] == mark:\n",
    "            win = True\n",
    "            return win\n",
    "                 \n",
    "        ## top row all\n",
    "        if board[7] == mark and board[8] == mark and board[9] == mark:\n",
    "            win = True\n",
    "            return win\n",
    "        \n",
    "        ## CHECK COLUMNS FOR WIN ##\n",
    "        ## left column\n",
    "        if board[1] == mark and board[4] == mark and board[7] == mark:\n",
    "            win = True\n",
    "            return win\n",
    "        \n",
    "        ## middle column \n",
    "        if board[2] == mark and board[5] == mark and board[8] == mark:\n",
    "            win = True\n",
    "            return win\n",
    "        \n",
    "        ## right column \n",
    "        if board[3] == mark and board[6] == mark and board[9] == mark:\n",
    "            win = True\n",
    "            return win\n",
    "        \n",
    "        ## CHECK DIAGONALS FOR WIN ##\n",
    "        # bottom left to top right\n",
    "        if board[1] == mark and board[5] == mark and board[9] == mark:\n",
    "            win = True\n",
    "            return win\n",
    "        \n",
    "        # bottom right to top left\n",
    "        if board[3] == mark and board[5] == mark and board[7] == mark:\n",
    "            win = True\n",
    "            return win\n",
    "        \n",
    "        else:\n",
    "            return win\n",
    "        \n",
    "                \n",
    "    \n",
    "    "
   ]
  },
  {
   "cell_type": "markdown",
   "metadata": {},
   "source": [
    "**TEST Step 4:** run the win_check function against our test_board - it should return True"
   ]
  },
  {
   "cell_type": "code",
   "execution_count": 118,
   "metadata": {},
   "outputs": [
    {
     "name": "stdout",
     "output_type": "stream",
     "text": [
      "X | O | X\n",
      "--|---|--\n",
      "X |   | O\n",
      "--|---|--\n",
      "X | O | X\n"
     ]
    },
    {
     "data": {
      "text/plain": [
       "True"
      ]
     },
     "execution_count": 118,
     "metadata": {},
     "output_type": "execute_result"
    }
   ],
   "source": [
    "win_check(test_board,'X')"
   ]
  },
  {
   "cell_type": "markdown",
   "metadata": {},
   "source": [
    "**Step 5: Write a function that uses the random module to randomly decide which player goes first. You may want to lookup random.randint() Return a string of which player went first.**"
   ]
  },
  {
   "cell_type": "code",
   "execution_count": 120,
   "metadata": {},
   "outputs": [],
   "source": [
    "import random\n",
    "\n",
    "def choose_first():\n",
    "    first = random.randint(0,100)\n",
    "    \n",
    "    if first < 50:\n",
    "        print(\"Player 1 goes first\")\n",
    "    else:\n",
    "        print(\"Player 2 goes first\")\n",
    "    \n",
    "    pass"
   ]
  },
  {
   "cell_type": "markdown",
   "metadata": {},
   "source": [
    "**Step 6: Write a function that returns a boolean indicating whether a space on the board is freely available.**"
   ]
  },
  {
   "cell_type": "code",
   "execution_count": 125,
   "metadata": {},
   "outputs": [],
   "source": [
    "def space_check(board, position):\n",
    "    \n",
    "    if board[position] == ' ':\n",
    "        return True\n",
    "    else:\n",
    "        return False"
   ]
  },
  {
   "cell_type": "markdown",
   "metadata": {},
   "source": [
    "**Step 7: Write a function that checks if the board is full and returns a boolean value. True if full, False otherwise.**"
   ]
  },
  {
   "cell_type": "code",
   "execution_count": 126,
   "metadata": {},
   "outputs": [],
   "source": [
    "def full_board_check(board):\n",
    "    \n",
    "    ## if x does not equal ' ', there is no more room on the boars. return True\n",
    "    for x in board:\n",
    "        if x != ' ':\n",
    "            return True\n",
    "        else:\n",
    "            return False\n",
    "    \n",
    "    pass"
   ]
  },
  {
   "cell_type": "markdown",
   "metadata": {},
   "source": [
    "**Step 8: Write a function that asks for a player's next position (as a number 1-9) and then uses the function from step 6 to check if it's a free position. If it is, then return the position for later use.**"
   ]
  },
  {
   "cell_type": "code",
   "execution_count": 151,
   "metadata": {},
   "outputs": [],
   "source": [
    "def player_choice(board):\n",
    "    \n",
    "    next_move = \"\"\n",
    "    positions = range(1,10)\n",
    "    \n",
    "    while next_move not in positions:\n",
    "        next_move = input('Choose a board position, 1 through 9 :')\n",
    "        \n",
    "        #check if input is digit\n",
    "        if next_move.isdigit() == False:\n",
    "            print('You have not input a valid number')\n",
    "            \n",
    "        elif next_move.isdigit() == True:\n",
    "            if next_move in positions == True:\n",
    "                space_chec(board, next_move)\n",
    "        else:\n",
    "            print('please select a valid position number: 1 to 9')\n",
    "    \n",
    "    pass"
   ]
  },
  {
   "cell_type": "code",
   "execution_count": null,
   "metadata": {},
   "outputs": [],
   "source": [
    "player_choice(test_board)"
   ]
  },
  {
   "cell_type": "markdown",
   "metadata": {},
   "source": [
    "**Step 9: Write a function that asks the player if they want to play again and returns a boolean True if they do want to play again.**"
   ]
  },
  {
   "cell_type": "code",
   "execution_count": null,
   "metadata": {
    "collapsed": true
   },
   "outputs": [],
   "source": [
    "def replay():\n",
    "    \n",
    "    pass"
   ]
  },
  {
   "cell_type": "markdown",
   "metadata": {
    "collapsed": true
   },
   "source": [
    "**Step 10: Here comes the hard part! Use while loops and the functions you've made to run the game!**"
   ]
  },
  {
   "cell_type": "code",
   "execution_count": null,
   "metadata": {
    "collapsed": true
   },
   "outputs": [],
   "source": [
    "print('Welcome to Tic Tac Toe!')\n",
    "\n",
    "#while True:\n",
    "    # Set the game up here\n",
    "    #pass\n",
    "\n",
    "    #while game_on:\n",
    "        #Player 1 Turn\n",
    "        \n",
    "        \n",
    "        # Player2's turn.\n",
    "            \n",
    "            #pass\n",
    "\n",
    "    #if not replay():\n",
    "        #break"
   ]
  },
  {
   "cell_type": "markdown",
   "metadata": {
    "collapsed": true
   },
   "source": [
    "## Good Job!"
   ]
  }
 ],
 "metadata": {
  "kernelspec": {
   "display_name": "Python 3",
   "language": "python",
   "name": "python3"
  },
  "language_info": {
   "codemirror_mode": {
    "name": "ipython",
    "version": 3
   },
   "file_extension": ".py",
   "mimetype": "text/x-python",
   "name": "python",
   "nbconvert_exporter": "python",
   "pygments_lexer": "ipython3",
   "version": "3.8.5"
  }
 },
 "nbformat": 4,
 "nbformat_minor": 1
}
